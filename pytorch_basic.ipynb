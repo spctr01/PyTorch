{
  "nbformat": 4,
  "nbformat_minor": 0,
  "metadata": {
    "colab": {
      "name": "pytorch_basic.ipynb",
      "provenance": [],
      "collapsed_sections": [],
      "include_colab_link": true
    },
    "kernelspec": {
      "name": "python3",
      "display_name": "Python 3"
    },
    "accelerator": "GPU"
  },
  "cells": [
    {
      "cell_type": "markdown",
      "metadata": {
        "id": "view-in-github",
        "colab_type": "text"
      },
      "source": [
        "<a href=\"https://colab.research.google.com/github/spctr01/PyTorch/blob/master/pytorch_basic.ipynb\" target=\"_parent\"><img src=\"https://colab.research.google.com/assets/colab-badge.svg\" alt=\"Open In Colab\"/></a>"
      ]
    },
    {
      "cell_type": "code",
      "metadata": {
        "id": "kINiWz6n8J9d",
        "colab_type": "code",
        "colab": {}
      },
      "source": [
        "import numpy as np \n",
        "import torch\n"
      ],
      "execution_count": 0,
      "outputs": []
    },
    {
      "cell_type": "markdown",
      "metadata": {
        "id": "4Gfm8tVnVzGL",
        "colab_type": "text"
      },
      "source": [
        "# **numpy array**"
      ]
    },
    {
      "cell_type": "code",
      "metadata": {
        "id": "Ozw-tx-cDZ-E",
        "colab_type": "code",
        "outputId": "0e5e59fa-2026-43cf-eaf4-a97ff1e4f148",
        "colab": {
          "base_uri": "https://localhost:8080/",
          "height": 90
        }
      },
      "source": [
        "array = [[1,2,3],[4,5,6]]\n",
        "a_array = np.array(array)\n",
        "print(\"array--{}\\n  type{}\\n shape{}\".format(a_array,\n",
        "                                                   type(a_array),\n",
        "                                                   np.shape(a_array)  ))"
      ],
      "execution_count": 7,
      "outputs": [
        {
          "output_type": "stream",
          "text": [
            "array--[[1 2 3]\n",
            " [4 5 6]]\n",
            "  type<class 'numpy.ndarray'>\n",
            " shape(2, 3)\n"
          ],
          "name": "stdout"
        }
      ]
    },
    {
      "cell_type": "markdown",
      "metadata": {
        "id": "GCT9H3eTRNGd",
        "colab_type": "text"
      },
      "source": [
        "\n",
        "# **pytorch array/tensor**"
      ]
    },
    {
      "cell_type": "code",
      "metadata": {
        "id": "g-dsmuxptdmf",
        "colab_type": "code",
        "outputId": "ea5116c4-dae9-4881-edf0-b6b50d2a3482",
        "colab": {
          "base_uri": "https://localhost:8080/",
          "height": 72
        }
      },
      "source": [
        "tensor = torch.tensor(array)\n",
        "print(\"type--{}\\n shape--{}\\n\".format(tensor.type, tensor.shape))"
      ],
      "execution_count": 12,
      "outputs": [
        {
          "output_type": "stream",
          "text": [
            "type--<built-in method type of Tensor object at 0x7fb2db85f510>\n",
            " shape--torch.Size([2, 3])\n",
            "\n"
          ],
          "name": "stdout"
        }
      ]
    },
    {
      "cell_type": "markdown",
      "metadata": {
        "id": "ROui4lNZSkWN",
        "colab_type": "text"
      },
      "source": [
        "# **random / ones**"
      ]
    },
    {
      "cell_type": "code",
      "metadata": {
        "id": "iFc_EeAYD4qS",
        "colab_type": "code",
        "colab": {
          "base_uri": "https://localhost:8080/",
          "height": 201
        },
        "outputId": "7ae05c0c-0f25-488e-c0e1-3724504a091e"
      },
      "source": [
        "print(\"np_ones: {}\\n np_randoms{}\\n\".format(np.ones((2,3)),\n",
        "                                        np.random.rand(2,3) ))\n",
        "\n",
        "print(\"\\n torch_ones:{}\\n torch_randoms:{}\".format(torch.ones((2,3)),\n",
        "                                                  torch.rand(2,3) ))"
      ],
      "execution_count": 15,
      "outputs": [
        {
          "output_type": "stream",
          "text": [
            "np_ones: [[1. 1. 1.]\n",
            " [1. 1. 1.]]\n",
            " np_randoms[[0.5865518  0.12020438 0.51134997]\n",
            " [0.36620638 0.45430957 0.32802573]]\n",
            "\n",
            "\n",
            " torch_ones:tensor([[1., 1., 1.],\n",
            "        [1., 1., 1.]])\n",
            " torch_randoms:tensor([[0.6413, 0.7835, 0.8057],\n",
            "        [0.6860, 0.9018, 0.6061]])\n"
          ],
          "name": "stdout"
        }
      ]
    },
    {
      "cell_type": "markdown",
      "metadata": {
        "id": "CnaN1AmJU69r",
        "colab_type": "text"
      },
      "source": [
        "# **numpy to tensor**"
      ]
    },
    {
      "cell_type": "code",
      "metadata": {
        "id": "MuUaA9ofYuaI",
        "colab_type": "code",
        "outputId": "a84ad520-392e-4629-d9fe-c9d86a55aaca",
        "colab": {
          "base_uri": "https://localhost:8080/",
          "height": 146
        }
      },
      "source": [
        "array = np.random.rand(2,3)\n",
        "tensor = torch.from_numpy(array)\n",
        "\n",
        "print(\"array:{}\\n{} \\n\\n tensor:{}\\n{}\".format(type(array),array,\n",
        "                                            tensor.type,tensor))"
      ],
      "execution_count": 19,
      "outputs": [
        {
          "output_type": "stream",
          "text": [
            "array:<class 'numpy.ndarray'>\n",
            "[[0.54245124 0.70920796 0.26788904]\n",
            " [0.62812413 0.610232   0.59182404]] \n",
            "\n",
            " tensor:<built-in method type of Tensor object at 0x7fb2db81f6c0>\n",
            "tensor([[0.5425, 0.7092, 0.2679],\n",
            "        [0.6281, 0.6102, 0.5918]], dtype=torch.float64)\n"
          ],
          "name": "stdout"
        }
      ]
    },
    {
      "cell_type": "code",
      "metadata": {
        "id": "zczq6Z2Lb93U",
        "colab_type": "code",
        "outputId": "7172b2b8-eb3c-4a0f-b454-1f4c4cf25cf7",
        "colab": {
          "base_uri": "https://localhost:8080/",
          "height": 90
        }
      },
      "source": [
        "tensor = torch.ones(3,3)\n",
        "print(tensor)\n",
        "\n",
        "#Resize\n",
        "print(tensor.view(-1).shape)"
      ],
      "execution_count": 30,
      "outputs": [
        {
          "output_type": "stream",
          "text": [
            "tensor([[1., 1., 1.],\n",
            "        [1., 1., 1.],\n",
            "        [1., 1., 1.]])\n",
            "torch.Size([9])\n"
          ],
          "name": "stdout"
        }
      ]
    },
    {
      "cell_type": "code",
      "metadata": {
        "id": "pTILgvsNb-se",
        "colab_type": "code",
        "colab": {}
      },
      "source": [
        ""
      ],
      "execution_count": 0,
      "outputs": []
    }
  ]
}